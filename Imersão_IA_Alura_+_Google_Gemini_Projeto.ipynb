{
  "nbformat": 4,
  "nbformat_minor": 0,
  "metadata": {
    "colab": {
      "provenance": []
    },
    "kernelspec": {
      "name": "python3",
      "display_name": "Python 3"
    },
    "language_info": {
      "name": "python"
    }
  },
  "cells": [
    {
      "cell_type": "code",
      "source": [
        "%pip -q install google-genai"
      ],
      "metadata": {
        "id": "UCCbECexLk_h"
      },
      "execution_count": 1,
      "outputs": []
    },
    {
      "cell_type": "code",
      "source": [
        "# Configura a API Key do Google Gemini\n",
        "\n",
        "import os\n",
        "from google.colab import userdata\n",
        "\n",
        "os.environ[\"GOOGLE_API_KEY\"] = userdata.get('GOOGLE_API_KEY')"
      ],
      "metadata": {
        "id": "NfCqHo1tLk8P"
      },
      "execution_count": 2,
      "outputs": []
    },
    {
      "cell_type": "code",
      "source": [
        "# Configura o cliente da SDK do Gemini\n",
        "from google import genai\n",
        "client = genai.Client()\n",
        "MODEL_ID = \"gemini-2.0-flash\""
      ],
      "metadata": {
        "id": "FTb6B17LoF-u"
      },
      "execution_count": 3,
      "outputs": []
    },
    {
      "cell_type": "code",
      "source": [
        "# Instalar Framework de agentes do Google ################################################\n",
        "!pip install -q google-adk"
      ],
      "metadata": {
        "id": "a1eRPalxEnj7",
        "colab": {
          "base_uri": "https://localhost:8080/"
        },
        "outputId": "187b0d4e-0e20-4e31-eb67-8cca8c300aa6"
      },
      "execution_count": 4,
      "outputs": [
        {
          "output_type": "stream",
          "name": "stdout",
          "text": [
            "\u001b[?25l   \u001b[90m━━━━━━━━━━━━━━━━━━━━━━━━━━━━━━━━━━━━━━━━\u001b[0m \u001b[32m0.0/1.2 MB\u001b[0m \u001b[31m?\u001b[0m eta \u001b[36m-:--:--\u001b[0m\r\u001b[2K   \u001b[91m━━━━━━━━━━━━━━━━━━━━━━━━━━━━━━━━━━━━━━━\u001b[0m\u001b[91m╸\u001b[0m \u001b[32m1.2/1.2 MB\u001b[0m \u001b[31m48.6 MB/s\u001b[0m eta \u001b[36m0:00:01\u001b[0m\r\u001b[2K   \u001b[90m━━━━━━━━━━━━━━━━━━━━━━━━━━━━━━━━━━━━━━━━\u001b[0m \u001b[32m1.2/1.2 MB\u001b[0m \u001b[31m20.6 MB/s\u001b[0m eta \u001b[36m0:00:00\u001b[0m\n",
            "\u001b[?25h\u001b[?25l   \u001b[90m━━━━━━━━━━━━━━━━━━━━━━━━━━━━━━━━━━━━━━━━\u001b[0m \u001b[32m0.0/232.1 kB\u001b[0m \u001b[31m?\u001b[0m eta \u001b[36m-:--:--\u001b[0m\r\u001b[2K   \u001b[90m━━━━━━━━━━━━━━━━━━━━━━━━━━━━━━━━━━━━━━━━\u001b[0m \u001b[32m232.1/232.1 kB\u001b[0m \u001b[31m8.6 MB/s\u001b[0m eta \u001b[36m0:00:00\u001b[0m\n",
            "\u001b[2K   \u001b[90m━━━━━━━━━━━━━━━━━━━━━━━━━━━━━━━━━━━━━━━━\u001b[0m \u001b[32m95.2/95.2 kB\u001b[0m \u001b[31m5.8 MB/s\u001b[0m eta \u001b[36m0:00:00\u001b[0m\n",
            "\u001b[2K   \u001b[90m━━━━━━━━━━━━━━━━━━━━━━━━━━━━━━━━━━━━━━━━\u001b[0m \u001b[32m217.1/217.1 kB\u001b[0m \u001b[31m7.2 MB/s\u001b[0m eta \u001b[36m0:00:00\u001b[0m\n",
            "\u001b[2K   \u001b[90m━━━━━━━━━━━━━━━━━━━━━━━━━━━━━━━━━━━━━━━━\u001b[0m \u001b[32m334.1/334.1 kB\u001b[0m \u001b[31m19.8 MB/s\u001b[0m eta \u001b[36m0:00:00\u001b[0m\n",
            "\u001b[2K   \u001b[90m━━━━━━━━━━━━━━━━━━━━━━━━━━━━━━━━━━━━━━━━\u001b[0m \u001b[32m125.1/125.1 kB\u001b[0m \u001b[31m7.9 MB/s\u001b[0m eta \u001b[36m0:00:00\u001b[0m\n",
            "\u001b[2K   \u001b[90m━━━━━━━━━━━━━━━━━━━━━━━━━━━━━━━━━━━━━━━━\u001b[0m \u001b[32m65.8/65.8 kB\u001b[0m \u001b[31m3.8 MB/s\u001b[0m eta \u001b[36m0:00:00\u001b[0m\n",
            "\u001b[2K   \u001b[90m━━━━━━━━━━━━━━━━━━━━━━━━━━━━━━━━━━━━━━━━\u001b[0m \u001b[32m119.0/119.0 kB\u001b[0m \u001b[31m7.0 MB/s\u001b[0m eta \u001b[36m0:00:00\u001b[0m\n",
            "\u001b[2K   \u001b[90m━━━━━━━━━━━━━━━━━━━━━━━━━━━━━━━━━━━━━━━━\u001b[0m \u001b[32m194.9/194.9 kB\u001b[0m \u001b[31m9.1 MB/s\u001b[0m eta \u001b[36m0:00:00\u001b[0m\n",
            "\u001b[2K   \u001b[90m━━━━━━━━━━━━━━━━━━━━━━━━━━━━━━━━━━━━━━━━\u001b[0m \u001b[32m62.5/62.5 kB\u001b[0m \u001b[31m2.8 MB/s\u001b[0m eta \u001b[36m0:00:00\u001b[0m\n",
            "\u001b[2K   \u001b[90m━━━━━━━━━━━━━━━━━━━━━━━━━━━━━━━━━━━━━━━━\u001b[0m \u001b[32m103.3/103.3 kB\u001b[0m \u001b[31m5.6 MB/s\u001b[0m eta \u001b[36m0:00:00\u001b[0m\n",
            "\u001b[2K   \u001b[90m━━━━━━━━━━━━━━━━━━━━━━━━━━━━━━━━━━━━━━━━\u001b[0m \u001b[32m44.4/44.4 kB\u001b[0m \u001b[31m3.2 MB/s\u001b[0m eta \u001b[36m0:00:00\u001b[0m\n",
            "\u001b[2K   \u001b[90m━━━━━━━━━━━━━━━━━━━━━━━━━━━━━━━━━━━━━━━━\u001b[0m \u001b[32m72.0/72.0 kB\u001b[0m \u001b[31m3.1 MB/s\u001b[0m eta \u001b[36m0:00:00\u001b[0m\n",
            "\u001b[?25h"
          ]
        }
      ]
    },
    {
      "cell_type": "code",
      "execution_count": 5,
      "metadata": {
        "id": "aePV2bdfDeoW"
      },
      "outputs": [],
      "source": [
        "from google.colab import userdata\n",
        "from google.adk.agents import Agent\n",
        "from google.adk.runners import Runner\n",
        "from google.adk.sessions import InMemorySessionService\n",
        "from google.adk.tools import google_search\n",
        "from google.genai import types\n",
        "import textwrap\n",
        "from IPython.display import display, Markdown, HTML\n",
        "import json\n",
        "import re # validação de ingredientes"
      ]
    },
    {
      "cell_type": "code",
      "source": [
        "# --- Funções Auxiliares ---\n",
        "def call_agent(agent: Agent, message_text: str) -> str:\n",
        "    session_service = InMemorySessionService()\n",
        "    session = session_service.create_session(app_name=agent.name, user_id=\"user1\", session_id=\"session1\")\n",
        "    runner = Runner(agent=agent, app_name=agent.name, session_service=session_service)\n",
        "    content = types.Content(role=\"user\", parts=[types.Part(text=message_text)])\n",
        "\n",
        "    final_response_parts = []\n",
        "    for event in runner.run(user_id=\"user1\", session_id=\"session1\", new_message=content):\n",
        "        if event.is_final_response():\n",
        "          for part in event.content.parts:\n",
        "            if part.text is not None:\n",
        "              final_response_parts.append(part.text)\n",
        "\n",
        "    raw_response = \"\".join(final_response_parts)\n",
        "\n",
        "    # Remove blocos de código markdown como ```json\\n...\\n```\n",
        "    if raw_response.strip().startswith(\"```json\") and raw_response.strip().endswith(\"```\"):\n",
        "        raw_response = raw_response.strip()[len(\"```json\"):]\n",
        "        raw_response = raw_response.strip()[:-len(\"```\")]\n",
        "        raw_response = raw_response.strip() # Limpa espaços em branco extras\n",
        "    elif raw_response.strip().startswith(\"```\") and raw_response.strip().endswith(\"```\"): # Caso o modelo retorne apenas ``` (sem json)\n",
        "        raw_response = raw_response.strip()[len(\"```\"):]\n",
        "        raw_response = raw_response.strip()[:-len(\"```\")]\n",
        "        raw_response = raw_response.strip() # Limpa espaços em branco extras\n",
        "\n",
        "    return raw_response # Retorna a resposta limpa.\n",
        "\n",
        "def to_markdown(text):\n",
        "  text = text.replace('•', '  *')\n",
        "  return Markdown(textwrap.indent(text, '> ', predicate=lambda _: True))"
      ],
      "metadata": {
        "id": "_xP4lWhsS5ko"
      },
      "execution_count": 6,
      "outputs": []
    },
    {
      "cell_type": "code",
      "source": [
        "#######################################################\n",
        "# --- Agente 1: Coleta e Processamento de Ingredientes --- #\n",
        "#######################################################\n",
        "def agente_coleta_ingredientes(texto_ingredientes: str):\n",
        "    agente_processador = Agent(\n",
        "        name=\"agente_coleta_ingredientes\",\n",
        "        model=MODEL_ID,\n",
        "        instruction=\"\"\"\n",
        "        Você é um processador de texto especialista em identificar ingredientes e, opcionalmente, suas quantidades.\n",
        "        Sua tarefa é extrair os nomes dos ingredientes e suas quantidades (se houver) de uma frase de texto livre.\n",
        "        Se a quantidade não for mencionada, assuma que a quantidade é 'suficiente' e marque como null.\n",
        "        Normalizar os nomes dos ingredientes para o singular e minúsculas.\n",
        "        Sua saída DEVE ser APENAS uma string JSON representando uma lista de dicionários, onde cada dicionário contém 'ingrediente' (string) e 'quantidade' (int, float ou null).\n",
        "        NÃO inclua nenhum texto adicional, explicações ou blocos de código Markdown (```json).\n",
        "        Exemplos de saída JSON:\n",
        "        - Para \"2 bananas, farinha de aveia e gotas de chocolate\":\n",
        "          [{\"ingrediente\": \"banana\", \"quantidade\": 2}, {\"ingrediente\": \"farinha de aveia\", \"quantidade\": null}, {\"ingrediente\": \"gotas de chocolate\", \"quantidade\": null}]\n",
        "        - Para \"ovos, leite e açúcar\":\n",
        "          [{\"ingrediente\": \"ovo\", \"quantidade\": null}, {\"ingrediente\": \"leite\", \"quantidade\": null}, {\"ingrediente\": \"açúcar\", \"quantidade\": null}]\n",
        "        \"\"\",\n",
        "        description=\"Agente que extrai ingredientes e quantidades de uma entrada de texto do usuário.\"\n",
        "    )\n",
        "\n",
        "    entrada_agente = f\"Texto de ingredientes: {texto_ingredientes}\"\n",
        "    saida_json_str = call_agent(agente_processador, entrada_agente)\n",
        "\n",
        "    try:\n",
        "        return json.loads(saida_json_str)\n",
        "    except json.JSONDecodeError:\n",
        "        print(f\"Erro ao parsear JSON do Agente 1: '{saida_json_str}'\")\n",
        "        return []"
      ],
      "metadata": {
        "id": "o8bqIfi_DyH8"
      },
      "execution_count": 7,
      "outputs": []
    },
    {
      "cell_type": "code",
      "source": [
        "#######################################################\n",
        "# --- Agente 2: Geração de Consulta --- #\n",
        "#######################################################\n",
        "def agente_gerador_consultas(ingredientes_processados: list, tentativa: int = 1):\n",
        "    # Converte a lista de ingredientes em uma string formatada para a instrução\n",
        "    nomes_ingredientes = \", \".join([ing[\"ingrediente\"] for ing in ingredientes_processados])\n",
        "    num_ingredientes = len(ingredientes_processados)\n",
        "\n",
        "    # Ajusta a instrução com base na tentativa para flexibilizar a busca\n",
        "    flexibilidade_busca = \"\"\n",
        "    if tentativa == 1:\n",
        "        flexibilidade_busca = f\" Gere consultas que busquem por receitas usando EXATAMENTE estes {num_ingredientes} ingredientes: {nomes_ingredientes}. Inclua termos como '{num_ingredientes} ingredientes' ou 'receita sem outros ingredientes'.\"\n",
        "    elif tentativa == 2:\n",
        "        flexibilidade_busca = f\" Para esta tentativa, você pode ser um pouco menos restritivo. Busque receitas usando os ingredientes: {nomes_ingredientes}, mas esteja aberto a receitas com um ou dois ingredientes MUITO COMUNS adicionais (ex: sal, água, fermento).\"\n",
        "    elif tentativa >= 3:\n",
        "        flexibilidade_busca = f\" Para esta última tentativa, seja mais flexível. Busque receitas que CONTENHAM os ingredientes: {nomes_ingredientes}, mas que não sejam excessivamente complexas.\"\n",
        "\n",
        "    agente_gerador = Agent(\n",
        "        name=\"agente_gerador_consultas\",\n",
        "        model=MODEL_ID,\n",
        "        instruction=f\"\"\"\n",
        "        Você é um criador de consultas otimizado para o Google Search.\n",
        "        Recebe uma string JSON representando uma lista de dicionários com ingredientes e suas quantidades.\n",
        "        Sua tarefa é gerar uma lista de strings de consulta (até 4) para encontrar receitas no Google.\n",
        "        Concentre-se em combinações lógicas dos ingredientes.\n",
        "        Use termos como \"receita\", \"como fazer\", \"prato com\".\n",
        "        As quantidades podem ser usadas para refinar, mas o principal é a combinação de ingredientes.\n",
        "        {flexibilidade_busca}\n",
        "        Sua saída DEVE ser APENAS uma string JSON representando uma lista de strings.\n",
        "        NÃO inclua nenhum texto adicional, explicações ou blocos de código Markdown (```json).\n",
        "        Exemplo de entrada: \"[{{\\\"ingrediente\\\": \\\"banana\\\"}}, {{\\\"ingrediente\\\": \\\"farinha de aveia\\\"}}, {{\\\"ingrediente\\\": \\\"gotas de chocolate\\\"}}]\"\n",
        "        Exemplo de saída JSON (para 3 ingredientes): [\"receita banana aveia gotas chocolate 3 ingredientes\", \"cookie banana aveia chocolate sem leite sem ovo\", \"bolo banana aveia gotas chocolate facil\"]\n",
        "        \"\"\",\n",
        "        description=\"Agente que gera consultas de busca para o Google com base em ingredientes.\"\n",
        "    )\n",
        "\n",
        "    ingredientes_json_str = json.dumps(ingredientes_processados)\n",
        "    entrada_agente = f\"Ingredientes JSON: {ingredientes_json_str}\"\n",
        "\n",
        "    saida_json_str = call_agent(agente_gerador, entrada_agente)\n",
        "\n",
        "    try:\n",
        "        return json.loads(saida_json_str)\n",
        "    except json.JSONDecodeError:\n",
        "        print(f\"Erro ao parsear JSON do Agente 2: '{saida_json_str}'\")\n",
        "        return []"
      ],
      "metadata": {
        "id": "y3VO1uo5_ghO"
      },
      "execution_count": 8,
      "outputs": []
    },
    {
      "cell_type": "code",
      "source": [
        "#######################################################\n",
        "# --- Agente 3: Buscador de Receitas --- #\n",
        "#######################################################\n",
        "def agente_buscador_receitas(consultas_de_busca: list):\n",
        "    buscador_receitas = Agent(\n",
        "        name=\"agente_buscador_receitas\",\n",
        "        model=MODEL_ID,\n",
        "        instruction=\"\"\"\n",
        "        Você é um assistente culinário especialista. Sua tarefa é usar a ferramenta de busca do Google (Google Search)\n",
        "        para encontrar **até 4 receitas**.\n",
        "        Tente encontrar resumos de receitas que listem claramente seus ingredientes, para facilitar a validação posterior.\n",
        "        Sua saída DEVE ser APENAS uma string JSON representando uma lista de dicionários. Cada dicionário deve conter:\n",
        "        'titulo' (string), 'url' (string), e 'resumo' (string). Se o resumo contiver ingredientes e modo de preparo, extraia-os.\n",
        "        Se nenhuma receita for encontrada que se adeque, retorne um JSON de lista vazia [].\n",
        "        NÃO inclua nenhum texto adicional, explicações ou blocos de código Markdown (```json).\n",
        "        Exemplo de saída JSON (para entrada \"banana, aveia\"):\n",
        "        [\n",
        "            {\"titulo\": \"Cookies de Banana e Aveia\", \"url\": \"https://example.com/cookies-banana\", \"resumo\": \"Cookies saudáveis com 2 ingredientes. Ingredientes: 2 bananas maduras, 1 xícara de aveia. Modo de preparo: Amasse as bananas e misture com a aveia...\"}\n",
        "        ]\n",
        "        \"\"\",\n",
        "        description=\"Agente que busca receitas no Google com base em consultas fornecidas.\",\n",
        "        tools=[google_search]\n",
        "    )\n",
        "\n",
        "    consultas_str = \"\\n\".join(consultas_de_busca)\n",
        "    entrada_agente = f\"Consultas de busca:\\n{consultas_str}\"\n",
        "\n",
        "    saida_json_str = call_agent(buscador_receitas, entrada_agente)\n",
        "\n",
        "    try:\n",
        "        return json.loads(saida_json_str)\n",
        "    except json.JSONDecodeError:\n",
        "        print(f\"Erro ao parsear JSON do Agente 3: '{saida_json_str}'\")\n",
        "        return []"
      ],
      "metadata": {
        "id": "uOqlg2TRLVh1"
      },
      "execution_count": 9,
      "outputs": []
    },
    {
      "cell_type": "code",
      "source": [
        "#######################################################\n",
        "# --- Agente 4: Validador de Receitas --- #\n",
        "#######################################################\n",
        "def agente_validador_receitas(ingredientes_usuario: list, receitas_encontradas: list):\n",
        "    agente_validador = Agent(\n",
        "        name=\"agente_validador_receitas\",\n",
        "        model=MODEL_ID,\n",
        "        instruction=\"\"\"\n",
        "        Você é um validador de receitas EXTREMAMENTE RIGOROSO.\n",
        "        Recebe uma lista de ingredientes que o usuário possui (normalizados para singular e minúsculas)\n",
        "        e uma lista de receitas encontradas, cada uma com 'titulo', 'url' e 'resumo'.\n",
        "        Sua tarefa é analisar o 'resumo' de CADA receita e determinar se ela utiliza SOMENTE OS INGREDIENTES\n",
        "        DA LISTA DO USUÁRIO, ou um SUB-CONJUNTO EXATO desses ingredientes.\n",
        "\n",
        "        VOCÊ DEVE IGNORAR COMPLETAMENTE: \"água\", \"sal\", \"pimenta\", \"fermento\", \"bicarbonato\", \"óleo\" (apenas se for óleo genérico de cozinha, não específico como \"óleo de coco\"), \"azeite\" (apenas se for genérico), \"vinagre\", \"temperos\" (genérico, como \"cheiro verde\", \"especiarias\"). Para todos os outros ingredientes, a correspondência DEVE ser EXATA.\n",
        "\n",
        "        Se o resumo de uma receita mencionar QUALQUER OUTRO ingrediente SIGNIFICATIVO (ou seja, que não está na lista do usuário E não é um dos ingredientes básicos ignoráveis acima), essa receita DEVE ser IMEDIATAMENTE DESCARTADA.\n",
        "\n",
        "        Sua saída DEVE ser APENAS uma string JSON representando uma lista de dicionários,\n",
        "        contendo APENAS as receitas que passaram na validação rigorosa.\n",
        "        Se nenhuma receita passar na validação, retorne um JSON de lista vazia [].\n",
        "        NÃO inclua nenhum texto adicional, explicações ou blocos de código Markdown (```json).\n",
        "\n",
        "        Exemplo de entrada:\n",
        "        Ingredientes do usuário: [{\"ingrediente\": \"banana\"}, {\"ingrediente\": \"farinha de aveia\"}, {\"ingrediente\": \"gotas de chocolate\"}]\n",
        "        Receitas encontradas:\n",
        "        [\n",
        "            {\"titulo\": \"Cookies de Banana e Aveia e Gotas\", \"url\": \"...\", \"resumo\": \"Ingredientes: 2 bananas, 1 xícara de aveia, 1/2 xícara de gotas de chocolate. Modo de preparo...\"},\n",
        "            {\"titulo\": \"Bolo de Banana com Ovos\", \"url\": \"...\", \"resumo\": \"Ingredientes: 2 bananas, 1 xícara de aveia, 2 ovos. Modo de preparo...\"},\n",
        "            {\"titulo\": \"Muffin de Banana e Aveia com Mel\", \"url\": \"...\", \"resumo\": \"Ingredientes: 2 bananas, 1 xícara de aveia, 2 colheres de sopa de mel. Modo de preparo...\"}\n",
        "        ]\n",
        "\n",
        "        Saída JSON esperada:\n",
        "        [\n",
        "            {\"titulo\": \"Cookies de Banana e Aveia e Gotas\", \"url\": \"...\", \"resumo\": \"Ingredientes: 2 bananas, 1 xícara de aveia, 1/2 xícara de gotas de chocolate. Modo de preparo...\"}\n",
        "        ]\n",
        "        \"\"\",\n",
        "        description=\"Agente que valida se as receitas encontradas contêm apenas os ingredientes fornecidos pelo usuário, de forma extremamente rigorosa.\"\n",
        "    )\n",
        "\n",
        "    # Prepara a entrada para o agente validador\n",
        "    # Assegura que a lista de ingredientes do usuário seja clara para o validador\n",
        "    ingredientes_usuario_nomes = [i[\"ingrediente\"] for i in ingredientes_usuario]\n",
        "    ingredientes_usuario_para_validador = json.dumps([{\"ingrediente\": nome} for nome in ingredientes_usuario_nomes])\n",
        "\n",
        "    receitas_json_str = json.dumps(receitas_encontradas)\n",
        "\n",
        "    entrada_agente = f\"Ingredientes do usuário: {ingredientes_usuario_para_validador}\\nReceitas encontradas: {receitas_json_str}\"\n",
        "\n",
        "    saida_json_str = call_agent(agente_validador, entrada_agente)\n",
        "\n",
        "    try:\n",
        "        return json.loads(saida_json_str)\n",
        "    except json.JSONDecodeError:\n",
        "        print(f\"Erro ao parsear JSON do Agente Validador: '{saida_json_str}'\")\n",
        "        return []"
      ],
      "metadata": {
        "id": "_aTb1SdkLeT6"
      },
      "execution_count": 10,
      "outputs": []
    },
    {
      "cell_type": "code",
      "source": [
        "#######################################################\n",
        "# --- Agente 5: Apresentador de Receitas --- #\n",
        "#######################################################\n",
        "def agente_apresentador_receitas(receitas_encontradas: list):\n",
        "    agente_apresentador = Agent(\n",
        "        name=\"agente_apresentador_receitas\",\n",
        "        model=MODEL_ID,\n",
        "        instruction=\"\"\"\n",
        "        Você é um formatador de receitas para apresentação ao usuário.\n",
        "        Recebe uma string JSON representando uma lista de dicionários, onde cada dicionário contém\n",
        "        'titulo' (string), 'url' (string), e 'resumo' (string). O resumo pode conter ingredientes e modo de preparo.\n",
        "        Sua tarefa é formatar essas informações de maneira clara e legível para o usuário.\n",
        "        Para cada receita, apresente no seguinte formato Markdown:\n",
        "        ### Nome da Receita: [Título da Receita]\n",
        "        **Ingredientes:**\n",
        "        [Lista de ingredientes extraídos do resumo ou \\\"Ver na URL para detalhes.\\\"]\n",
        "\n",
        "        **Modo de Preparo:**\n",
        "        [Resumo do modo de preparo extraído do resumo ou \\\"Ver na URL para detalhes.\\\"]\n",
        "\n",
        "        **URL:** [https://www.gov.br/receitafederal/pt-br](https://www.gov.br/receitafederal/pt-br)\n",
        "\n",
        "        Se não houver receitas (lista JSON vazia), informe o usuário com uma mensagem amigável: \\\"Não foi possível encontrar receitas que usem **apenas** os ingredientes informados ou um subconjunto deles. Tente ajustar sua lista de ingredientes ou ser menos específico.\\\"\n",
        "        NÃO inclua nenhum texto adicional além da formatação da receita ou da mensagem de não encontrado.\n",
        "        \"\"\",\n",
        "        description=\"Agente que formata e apresenta as receitas encontradas para o usuário.\"\n",
        "    )\n",
        "\n",
        "    receitas_json_str = json.dumps(receitas_encontradas)\n",
        "    entrada_agente = f\"Receitas encontradas (JSON):\\\\n{receitas_json_str}\"\n",
        "\n",
        "    resposta_formatada = call_agent(agente_apresentador, entrada_agente)\n",
        "\n",
        "    display(Markdown(resposta_formatada))"
      ],
      "metadata": {
        "id": "6xzI6LKzxxnN"
      },
      "execution_count": 13,
      "outputs": []
    },
    {
      "cell_type": "code",
      "source": [
        "# --- Exemplo de Fluxo de Execução (Orquestrador) ---\n",
        "print(\"🚀 Iniciando o Chatbot de Receitas com 4 Agentes 🚀\")\n",
        "\n",
        "ingredientes_do_usuario = input(\"Por favor, digite os ingredientes que você tem em mãos (ex: 2 bananas, farinha de aveia, gotas de chocolate): \")\n",
        "\n",
        "if not ingredientes_do_usuario:\n",
        "    print(\"Você esqueceu de digitar os ingredientes!\")\n",
        "else:\n",
        "    print(f\"Maravilha! Vamos buscar receitas com: {ingredientes_do_usuario}\")\n",
        "\n",
        "    print(\"\\n--- 📝 Resultado do Agente 1 (Processador de Ingredientes) ---\\n\")\n",
        "    ingredientes_processados = agente_coleta_ingredientes(ingredientes_do_usuario)\n",
        "    print(ingredientes_processados)\n",
        "    print(\"--------------------------------------------------------------\")\n",
        "\n",
        "    if not ingredientes_processados:\n",
        "        print(\"Não consegui identificar nenhum ingrediente. Por favor, tente novamente com mais detalhes.\")\n",
        "    else:\n",
        "        MAX_TENTATIVAS = 3 # Número máximo de tentativas de busca\n",
        "        receitas_finais = []\n",
        "\n",
        "        for tentativa in range(1, MAX_TENTATIVAS + 1):\n",
        "            print(f\"\\n--- 🔄 Tentativa {tentativa} de {MAX_TENTATIVAS} (Gerador de Consultas) ---\\n\")\n",
        "            consultas_geradas = agente_gerador_consultas(ingredientes_processados, tentativa)\n",
        "            print(consultas_geradas)\n",
        "            print(\"--------------------------------------------------------------\")\n",
        "\n",
        "            if not consultas_geradas:\n",
        "                print(\"Não foi possível gerar consultas de busca.\")\n",
        "                if tentativa == MAX_TENTATIVAS:\n",
        "                    print(\"Todas as tentativas esgotadas sem sucesso na geração de consultas.\")\n",
        "                continue\n",
        "\n",
        "            print(f\"\\n--- 🔍 Tentativa {tentativa} de {MAX_TENTATIVAS} (Buscador de Receitas) ---\\n\")\n",
        "            receitas_encontradas = agente_buscador_receitas(consultas_geradas)\n",
        "            print(f\"Receitas encontradas pelo buscador nesta tentativa: {len(receitas_encontradas)}\")\n",
        "            # print(receitas_encontradas) # Descomente para ver o raw do buscador\n",
        "            print(\"--------------------------------------------------------------\")\n",
        "\n",
        "            if not receitas_encontradas:\n",
        "                print(\"Nenhuma receita encontrada para as consultas geradas nesta tentativa.\")\n",
        "                if tentativa == MAX_TENTATIVAS:\n",
        "                    print(\"Todas as tentativas esgotadas sem encontrar receitas.\")\n",
        "                continue\n",
        "\n",
        "            print(f\"\\n--- ✅ Tentativa {tentativa} de {MAX_TENTATIVAS} (Validador de Receitas) ---\\n\")\n",
        "            receitas_validadas = agente_validador_receitas(ingredientes_processados, receitas_encontradas)\n",
        "            print(f\"Receitas validadas nesta tentativa: {len(receitas_validadas)}\")\n",
        "            # print(receitas_validadas) # Descomente para ver o raw do validador\n",
        "            print(\"--------------------------------------------------------------\")\n",
        "\n",
        "            if receitas_validadas:\n",
        "                receitas_finais = receitas_validadas\n",
        "                print(f\"Encontramos {len(receitas_finais)} receita(s) válida(s) na tentativa {tentativa}. Finalizando busca.\")\n",
        "                break # Sai do loop se encontrar receitas válidas\n",
        "            else:\n",
        "                print(\"Nenhuma receita passou na validação rigorosa. Tentando novamente com consultas mais flexíveis...\")\n",
        "\n",
        "        print(\"\\n--- 📣 Resultado Final (Apresentador de Receitas) ---\\n\")\n",
        "        agente_apresentador_receitas(receitas_finais)\n",
        "        print(\"--------------------------------------------------------------\")\n",
        "\n",
        "print(\"\\n🎉 Chatbot de Receitas Concluído! 🎉\")"
      ],
      "metadata": {
        "colab": {
          "base_uri": "https://localhost:8080/",
          "height": 688
        },
        "id": "8FvfF4i_Dvxl",
        "outputId": "a0780b03-6423-4526-d3ac-8dbd2f719b9f"
      },
      "execution_count": 16,
      "outputs": [
        {
          "output_type": "stream",
          "name": "stdout",
          "text": [
            "🚀 Iniciando o Chatbot de Receitas 🚀\n",
            "Por favor, digite os ingredientes que você tem em mãos (ex: 2 bananas, farinha de aveia, gotas de chocolate): 4 bananas, 2 ovos, aveia em flocos, fermento em pó\n",
            "Maravilha! Vamos buscar receitas com: 4 bananas, 2 ovos, aveia em flocos, fermento em pó\n",
            "\n",
            "--- 📝 Resultado do Agente 1 (Processador de Ingredientes) ---\n",
            "\n",
            "[{'ingrediente': 'banana', 'quantidade': 4}, {'ingrediente': 'ovo', 'quantidade': 2}, {'ingrediente': 'aveia em flocos', 'quantidade': None}, {'ingrediente': 'fermento em pó', 'quantidade': None}]\n",
            "--------------------------------------------------------------\n",
            "\n",
            "--- 🔄 Tentativa 1 de 3 (Gerador de Consultas) ---\n",
            "\n",
            "['receita banana ovo aveia fermento 4 ingredientes', 'como fazer receita banana ovo aveia fermento facil', 'prato com banana ovo aveia e fermento rapido', 'receita fit banana ovo aveia fermento sem gluten sem lactose']\n",
            "--------------------------------------------------------------\n",
            "\n",
            "--- 🔍 Tentativa 1 de 3 (Buscador de Receitas) ---\n",
            "\n",
            "Receitas encontradas pelo buscador nesta tentativa: 4\n",
            "--------------------------------------------------------------\n",
            "\n",
            "--- ✅ Tentativa 1 de 3 (Validador de Receitas) ---\n",
            "\n",
            "Receitas validadas nesta tentativa: 1\n",
            "--------------------------------------------------------------\n",
            "Encontramos 1 receita(s) válida(s) na tentativa 1. Finalizando busca.\n",
            "\n",
            "--- 📣 Resultado Final (Apresentador de Receitas) ---\n",
            "\n"
          ]
        },
        {
          "output_type": "display_data",
          "data": {
            "text/plain": [
              "<IPython.core.display.Markdown object>"
            ],
            "text/markdown": "### Nome da Receita: Bolo de Banana com 4 ingredientes - YouTube\n**Ingredientes:**\n4 bananas maduras, 2 ovos, 1 xícara de aveia em flocos, 1 colher de sopa de fermento em pó.\n\n**Modo de Preparo:**\nAmasse as bananas, acrescente os ovos, a aveia e o fermento. Unte a forma com um pouco de óleo de coco e açúcar de demerara. Deixe no forno médio por cerca de 30 minutos e está pronto!\n\n**URL:** [https://www.gov.br/receitafederal/pt-br](https://vertexaisearch.cloud.google.com/grounding-api-redirect/AbF9wXEoISO8s4fAXwyhj2bsXfrt-sZX46rT5oFVjO5IB4Fbyeo5VI2-m4zamWtTJN8XtqZZYf-5Mtie-KQmHsq7xqOFhTgnYUub3qvkcah-mRFsCc-8AfT7zuVbz8Yh-jgEracZLB06Txo=)"
          },
          "metadata": {}
        },
        {
          "output_type": "stream",
          "name": "stdout",
          "text": [
            "--------------------------------------------------------------\n",
            "\n",
            "🎉 Chatbot de Receitas Concluído! 🎉\n"
          ]
        }
      ]
    }
  ]
}
